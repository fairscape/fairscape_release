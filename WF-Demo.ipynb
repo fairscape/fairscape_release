{
 "cells": [
  {
   "cell_type": "code",
   "execution_count": 1,
   "metadata": {},
   "outputs": [
    {
     "name": "stderr",
     "output_type": "stream",
     "text": [
      "/opt/anaconda3/lib/python3.11/site-packages/pydantic/main.py:308: UserWarning: Pydantic serializer warnings:\n",
      "  Expected `IdentifierValue` but got `dict` - serialized value may not be as expected\n",
      "  return self.__pydantic_serializer__.to_python(\n"
     ]
    },
    {
     "data": {
      "text/plain": [
       "'ark:59852/rocrate-pbat-mediated-targeted-methylome-sequencing-Pu2oVmFNn9z/'"
      ]
     },
     "execution_count": 1,
     "metadata": {},
     "output_type": "execute_result"
    }
   ],
   "source": [
    "import json\n",
    "from ROCrateCreation.GenomicDataModel.GenomicData import GenomicData\n",
    "\n",
    "API_KEY = \"\"\n",
    "accession = \"PRJDB2884\"\n",
    "acession = \"PRJNA257197\"\n",
    "\n",
    "# Create the GenomicData model\n",
    "genomic_data = GenomicData.from_api(accession, API_KEY)\n",
    "\n",
    "genomic_data.to_rocrate('./ro-crate-metadata')"
   ]
  },
  {
   "cell_type": "code",
   "execution_count": null,
   "metadata": {},
   "outputs": [],
   "source": []
  }
 ],
 "metadata": {
  "kernelspec": {
   "display_name": "base",
   "language": "python",
   "name": "python3"
  },
  "language_info": {
   "codemirror_mode": {
    "name": "ipython",
    "version": 3
   },
   "file_extension": ".py",
   "mimetype": "text/x-python",
   "name": "python",
   "nbconvert_exporter": "python",
   "pygments_lexer": "ipython3",
   "version": "3.11.7"
  }
 },
 "nbformat": 4,
 "nbformat_minor": 2
}
