{
 "cells": [
  {
   "cell_type": "code",
   "execution_count": 1,
   "metadata": {},
   "outputs": [
    {
     "ename": "ValidationError",
     "evalue": "1 validation error for Sample\ncellLineReference.@id\n  Input should be a valid string [type=string_type, input_value={'@id': 'ark:59852/cell-line-IMR-90'}, input_type=dict]\n    For further information visit https://errors.pydantic.dev/2.5/v/string_type",
     "output_type": "error",
     "traceback": [
      "\u001b[0;31m---------------------------------------------------------------------------\u001b[0m",
      "\u001b[0;31mValidationError\u001b[0m                           Traceback (most recent call last)",
      "Cell \u001b[0;32mIn[1], line 11\u001b[0m\n\u001b[1;32m      8\u001b[0m \u001b[38;5;66;03m# Create the GenomicData model\u001b[39;00m\n\u001b[1;32m      9\u001b[0m genomic_data \u001b[38;5;241m=\u001b[39m GenomicData\u001b[38;5;241m.\u001b[39mfrom_api(accession, API_KEY)\n\u001b[0;32m---> 11\u001b[0m genomic_data\u001b[38;5;241m.\u001b[39mto_rocrate(\u001b[38;5;124m'\u001b[39m\u001b[38;5;124m./ro-crate-metadata\u001b[39m\u001b[38;5;124m'\u001b[39m)\n",
      "File \u001b[0;32m~/Docs/Tim_Work/Git_Repos/fairscape_release/ROCrateCreation/GenomicDataModel/GenomicData.py:354\u001b[0m, in \u001b[0;36mGenomicData.to_rocrate\u001b[0;34m(self, output_dir)\u001b[0m\n\u001b[1;32m    351\u001b[0m \u001b[38;5;28;01melse\u001b[39;00m:\n\u001b[1;32m    352\u001b[0m     sample_data[\u001b[38;5;124m\"\u001b[39m\u001b[38;5;124mattributes\u001b[39m\u001b[38;5;124m\"\u001b[39m] \u001b[38;5;241m=\u001b[39m sample\u001b[38;5;241m.\u001b[39mattributes\n\u001b[0;32m--> 354\u001b[0m sample \u001b[38;5;241m=\u001b[39m GenerateSample(\u001b[38;5;241m*\u001b[39m\u001b[38;5;241m*\u001b[39msample_data)\n\u001b[1;32m    356\u001b[0m id_mapping[accession] \u001b[38;5;241m=\u001b[39m sample\u001b[38;5;241m.\u001b[39mguid\n\u001b[1;32m    357\u001b[0m sample_guids\u001b[38;5;241m.\u001b[39mappend(sample\u001b[38;5;241m.\u001b[39mguid)\n",
      "File \u001b[0;32m~/Docs/Tim_Work/Git_Repos/fairscape-cli/src/fairscape_cli/models/sample.py:65\u001b[0m, in \u001b[0;36mGenerateSample\u001b[0;34m(guid, name, filepath, cratePath, **kwargs)\u001b[0m\n\u001b[1;32m     62\u001b[0m     \u001b[38;5;28;01melif\u001b[39;00m value \u001b[38;5;129;01mis\u001b[39;00m \u001b[38;5;129;01mnot\u001b[39;00m \u001b[38;5;28;01mNone\u001b[39;00m: \n\u001b[1;32m     63\u001b[0m         sampleMetadata[key] \u001b[38;5;241m=\u001b[39m value\n\u001b[0;32m---> 65\u001b[0m \u001b[38;5;28;01mreturn\u001b[39;00m Sample\u001b[38;5;241m.\u001b[39mmodel_validate(sampleMetadata)\n",
      "File \u001b[0;32m/opt/anaconda3/lib/python3.11/site-packages/pydantic/main.py:503\u001b[0m, in \u001b[0;36mBaseModel.model_validate\u001b[0;34m(cls, obj, strict, from_attributes, context)\u001b[0m\n\u001b[1;32m    501\u001b[0m \u001b[38;5;66;03m# `__tracebackhide__` tells pytest and some other tools to omit this function from tracebacks\u001b[39;00m\n\u001b[1;32m    502\u001b[0m __tracebackhide__ \u001b[38;5;241m=\u001b[39m \u001b[38;5;28;01mTrue\u001b[39;00m\n\u001b[0;32m--> 503\u001b[0m \u001b[38;5;28;01mreturn\u001b[39;00m \u001b[38;5;28mcls\u001b[39m\u001b[38;5;241m.\u001b[39m__pydantic_validator__\u001b[38;5;241m.\u001b[39mvalidate_python(\n\u001b[1;32m    504\u001b[0m     obj, strict\u001b[38;5;241m=\u001b[39mstrict, from_attributes\u001b[38;5;241m=\u001b[39mfrom_attributes, context\u001b[38;5;241m=\u001b[39mcontext\n\u001b[1;32m    505\u001b[0m )\n",
      "\u001b[0;31mValidationError\u001b[0m: 1 validation error for Sample\ncellLineReference.@id\n  Input should be a valid string [type=string_type, input_value={'@id': 'ark:59852/cell-line-IMR-90'}, input_type=dict]\n    For further information visit https://errors.pydantic.dev/2.5/v/string_type"
     ]
    }
   ],
   "source": [
    "import json\n",
    "from ROCrateCreation.GenomicDataModel.GenomicData import GenomicData\n",
    "\n",
    "API_KEY = \"b5842d8d17966b13241247e793b879532d07\"\n",
    "accession = \"PRJDB2884\"\n",
    "acession = \"PRJNA257197\"\n",
    "\n",
    "# Create the GenomicData model\n",
    "genomic_data = GenomicData.from_api(accession, API_KEY)\n",
    "\n",
    "genomic_data.to_rocrate('./ro-crate-metadata')"
   ]
  },
  {
   "cell_type": "code",
   "execution_count": null,
   "metadata": {},
   "outputs": [],
   "source": []
  }
 ],
 "metadata": {
  "kernelspec": {
   "display_name": "base",
   "language": "python",
   "name": "python3"
  },
  "language_info": {
   "codemirror_mode": {
    "name": "ipython",
    "version": 3
   },
   "file_extension": ".py",
   "mimetype": "text/x-python",
   "name": "python",
   "nbconvert_exporter": "python",
   "pygments_lexer": "ipython3",
   "version": "3.11.7"
  }
 },
 "nbformat": 4,
 "nbformat_minor": 2
}
